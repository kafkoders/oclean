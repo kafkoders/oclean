{
 "cells": [
  {
   "cell_type": "code",
   "execution_count": 1,
   "metadata": {},
   "outputs": [],
   "source": [
    "import itertools\n",
    "from random import random, randrange, choice\n",
    "import math"
   ]
  },
  {
   "cell_type": "code",
   "execution_count": 2,
   "metadata": {},
   "outputs": [],
   "source": [
    "class Ant(object):\n",
    "    def __init__(self, id_, row, column, memory_size, has_trash):\n",
    "        self.id_ = id_\n",
    "        self.row = row\n",
    "        self.column = column\n",
    "        self.memory_size = memory_size\n",
    "        self.has_trash = has_trash\n",
    "        self.memories = [0] * self.memory_size\n",
    "        \n",
    "    def update_position(self, new_row, new_column):\n",
    "        self.column = new_column\n",
    "        self.row = new_row\n",
    "        \n",
    "    def count_memories(self):\n",
    "        return self.memories.count(1)\n",
    "    \n",
    "    def add_memory(self, value):\n",
    "        self.memories.pop()\n",
    "        self.memories.insert(0, value)"
   ]
  },
  {
   "cell_type": "code",
   "execution_count": 3,
   "metadata": {},
   "outputs": [],
   "source": [
    "def check_possible_moves(ocean, ant_map, row, column, vision_range=1):\n",
    "    left_row = row\n",
    "    if -1 < row - vision_range < len(ocean.index):\n",
    "        left_row = row - vision_range\n",
    "    \n",
    "    right_row = row\n",
    "    if -1 < row + vision_range < len(ocean.index):\n",
    "        right_row = row + vision_range\n",
    "    \n",
    "    left_column = column\n",
    "    if -1 < column - vision_range < len(ocean.columns):\n",
    "        left_column = column - vision_range\n",
    "        \n",
    "    right_column = column\n",
    "    if -1 < column + vision_range < len(ocean.columns):\n",
    "        right_column = column + vision_range\n",
    "    \n",
    "    ant_vision = ant_map.loc[left_row:right_row, left_column:right_column]\n",
    "\n",
    "    moves_row = ant_vision.index.tolist()\n",
    "    moves_column = ant_vision.columns.tolist()\n",
    "    \n",
    "    possible_moves = [[r,c] for r in moves_row for c in moves_column if ant_map.at[r, c] == 0 and [r, c] != [row, column]]\n",
    "    \n",
    "    return possible_moves"
   ]
  },
  {
   "cell_type": "code",
   "execution_count": 4,
   "metadata": {},
   "outputs": [],
   "source": [
    "\"\"\"def drop_probability(ant, drop_constant):\n",
    "    fx = ant.count_memories() / ant.memory_size\n",
    "    return (fx / drop_constant + fx)**2\"\"\";"
   ]
  },
  {
   "cell_type": "code",
   "execution_count": 5,
   "metadata": {},
   "outputs": [],
   "source": [
    "\"\"\"def pick_probability(ant, pick_constant):\n",
    "    fx = ant.count_memories() / ant.memory_size\n",
    "    return (pick_constant / pick_constant + fx)**2\"\"\";"
   ]
  },
  {
   "cell_type": "code",
   "execution_count": 6,
   "metadata": {},
   "outputs": [],
   "source": [
    "def calculate_f(alpha, ant_row, ant_column, ocean, drop=False):\n",
    "    s = 0\n",
    "    summation = 0\n",
    "    \n",
    "    row1 = 0 if ant_row - 1 < 0 else ant_row - 1\n",
    "    row2 = len(ocean.index) if ant_row + 1 > len(ocean.columns) else ant_row + 1\n",
    "    \n",
    "    column1 = 0 if ant_column - 1 < 0 else ant_column - 1\n",
    "    column2 = len(ocean.columns) if ant_column + 1 > len(ocean.columns) else ant_column + 1\n",
    "    \n",
    "    for r in range(row1, row2):\n",
    "        for c in range(column1, column2):\n",
    "            if [r, c] != [ant_row, ant_column]:\n",
    "                s += 1\n",
    "                if ocean.at[r, c] == 1:\n",
    "                    a = (r, c)\n",
    "                    b = (ant_row, ant_column)\n",
    "                    \n",
    "                    distance = math.sqrt(sum([(row - column)**2 for row, column in zip(a, b)]))\n",
    "                    summation += (1 - distance/alpha)\n",
    "    \n",
    "    try:\n",
    "        fi = summation/s\n",
    "    except ZeroDivisionError:\n",
    "        fi = 0\n",
    "    \n",
    "    fi = 0 if fi <= 0 else fi\n",
    "    \n",
    "    return fi"
   ]
  },
  {
   "cell_type": "code",
   "execution_count": 7,
   "metadata": {},
   "outputs": [],
   "source": [
    "def move_ants(ocean, ants, ant_map, drop_constant, pick_constant, alpha):\n",
    "    random_value = random()\n",
    "    \n",
    "    for ant in ants:\n",
    "        possible_moves = check_possible_moves(ocean, ant_map, ant.row, ant.column)\n",
    "        \n",
    "        if len(possible_moves) > 0:\n",
    "            ant_map.at[ant.row, ant.column] = 0\n",
    "            \n",
    "            move = choice(possible_moves)\n",
    "\n",
    "            ant_map.at[move[0], move[1]] = 1\n",
    "            ant.row = move[0]\n",
    "            ant.column = move[1]\n",
    "            \n",
    "            if ocean.at[move[0], move[1]] == 1 and ant.has_trash == 0:\n",
    "                fi = calculate_f(alpha, move[0], move[1], ocean)\n",
    "                pick_value = (pick_constant / (pick_constant + fi))**2\n",
    "                if random_value < pick_value:\n",
    "                    #print(f\"Ant {ant.id_} had nothing and took trash!\")\n",
    "                    ocean.at[move[0], move[1]] = 0\n",
    "                    ant.has_trash = 1\n",
    "                ant.add_memory(1)\n",
    "                # print(f\"Ant {ant.id_} had nothing and found trash!\")\n",
    "            elif ocean.at[move[0], move[1]] == 1 and ant.has_trash == 1:\n",
    "                ant.add_memory(1)\n",
    "                # print(f\"Ant {ant.id_} had trash and found trash!\")\n",
    "            elif ocean.at[move[0], move[1]] == 0 and ant.has_trash == 1:\n",
    "                fi = calculate_f(alpha, move[0], move[1], ocean,True)\n",
    "                drop_value = 2 * fi if fi < drop_constant else 1\n",
    "                #print(f\"Ant {ant.id_} had trash and did not find anything!\")\n",
    "                if random_value < drop_value:\n",
    "                    #print(f\"Ant {ant.id_} had trash and dropped it!\")\n",
    "                    ocean.at[move[0], move[1]] = 1\n",
    "                    ant.has_trash = 0\n",
    "                ant.add_memory(0)\n",
    "                # print(f\"Ant {ant.id_} had trash and did not find anything!\")\n",
    "            elif ocean.at[move[0], move[1]] == 0 and ant.has_trash == 0:\n",
    "                ant.add_memory(0)\n",
    "                # print(f\"Ant {ant.id_} did not have trash and did not find anything!\")\n",
    "                \n",
    "    return ocean, ants"
   ]
  },
  {
   "cell_type": "markdown",
   "metadata": {},
   "source": [
    "**DISEÑAR ALGORITMO CON UNA HORMIGA PARA VER SU COMPORTAMIENTO Y EFICIENCIA**\n",
    "\n",
    "Una hormiga comprobará todas las posiciones visitables del mapa, y si dichas posiciones están o no en su memoria, que en caso de estarlo y no ser un punto de recogida no se visitarán. Pero si por el contrario, la hormiga tiene basura y ha depositado basura en una posición aún en su memoria, retrocederá hasta dicha concentración de basura para soltarla, sino buscará una posible ubicación aleatoria. Sino, por defecto, la hormiga sigue un recorrido aleatorio tenga o no basura y/o información del destino."
   ]
  },
  {
   "cell_type": "code",
   "execution_count": 8,
   "metadata": {},
   "outputs": [],
   "source": [
    "import pickle"
   ]
  },
  {
   "cell_type": "code",
   "execution_count": 9,
   "metadata": {},
   "outputs": [],
   "source": [
    "with open('test_data.pickle', 'rb') as data:\n",
    "    ocean = pickle.load(data)"
   ]
  },
  {
   "cell_type": "code",
   "execution_count": 10,
   "metadata": {},
   "outputs": [],
   "source": [
    "trash_counter = 0\n",
    "\n",
    "for row in range(len(ocean.index)):\n",
    "    for column in range(len(ocean.columns)):\n",
    "        if ocean.at[row, column] == 1:\n",
    "            trash_counter+= 1"
   ]
  },
  {
   "cell_type": "code",
   "execution_count": 11,
   "metadata": {},
   "outputs": [
    {
     "data": {
      "text/plain": [
       "2011"
      ]
     },
     "execution_count": 11,
     "metadata": {},
     "output_type": "execute_result"
    }
   ],
   "source": [
    "trash_counter"
   ]
  },
  {
   "cell_type": "code",
   "execution_count": 12,
   "metadata": {},
   "outputs": [],
   "source": [
    "import matplotlib.pyplot as plt\n",
    "import seaborn as sns"
   ]
  },
  {
   "cell_type": "code",
   "execution_count": 13,
   "metadata": {
    "scrolled": false
   },
   "outputs": [
    {
     "data": {
      "text/plain": [
       "<matplotlib.axes._subplots.AxesSubplot at 0x2847412a448>"
      ]
     },
     "execution_count": 13,
     "metadata": {},
     "output_type": "execute_result"
    },
    {
     "data": {
      "image/png": "[encoded data removed]",
      "text/plain": [
       "<Figure size 1440x720 with 2 Axes>"
      ]
     },
     "metadata": {
      "needs_background": "light"
     },
     "output_type": "display_data"
    }
   ],
   "source": [
    "plt.figure(figsize=(20,10))\n",
    "sns.heatmap(ocean)"
   ]
  },
  {
   "cell_type": "code",
   "execution_count": 14,
   "metadata": {},
   "outputs": [],
   "source": [
    "import pandas as pd"
   ]
  },
  {
   "cell_type": "code",
   "execution_count": 15,
   "metadata": {},
   "outputs": [],
   "source": [
    "data = [[0 for x in range(len(ocean))] for y in range(len(ocean))]\n",
    "ant_map = pd.DataFrame(data)"
   ]
  },
  {
   "cell_type": "code",
   "execution_count": 16,
   "metadata": {},
   "outputs": [],
   "source": [
    "ants = list()\n",
    "\n",
    "total_ants = 200\n",
    "memory_size = 15"
   ]
  },
  {
   "cell_type": "code",
   "execution_count": 17,
   "metadata": {},
   "outputs": [],
   "source": [
    "for ant in range(1, total_ants + 1):\n",
    "    flag = False\n",
    "    \n",
    "    while flag is False:\n",
    "        row = randrange(len(ocean.index))\n",
    "        column = randrange(len(ocean.columns))\n",
    "\n",
    "        if ant_map.at[row, column] == 1:\n",
    "            pass\n",
    "        \n",
    "        if ocean.at[row, column] == 1:\n",
    "            ants.append(Ant(id_=ant, row=row, column=column, memory_size=memory_size, has_trash=1))\n",
    "            ant_map.at[row, column] = 1\n",
    "            flag = True\n",
    "        elif ocean.at[row, column] == 0:\n",
    "            ants.append(Ant(id_=ant, row=row, column=column, memory_size=memory_size, has_trash=0))\n",
    "            ant_map.at[row, column] = 1\n",
    "            flag = True"
   ]
  },
  {
   "cell_type": "code",
   "execution_count": 18,
   "metadata": {
    "scrolled": true
   },
   "outputs": [
    {
     "name": "stdout",
     "output_type": "stream",
     "text": [
      "Wall time: 1min\n"
     ]
    }
   ],
   "source": [
    "%%time\n",
    "\n",
    "steps = 1000\n",
    "drop_constant = .15\n",
    "pick_constant = .1\n",
    "alpha = 2.1\n",
    "\n",
    "while steps > 0:\n",
    "    ocean, ants = move_ants(ocean, ants, ant_map, drop_constant, pick_constant, alpha)\n",
    "    #print(\"step: \" + str(steps))\n",
    "    steps -= 1"
   ]
  },
  {
   "cell_type": "code",
   "execution_count": 19,
   "metadata": {
    "scrolled": false
   },
   "outputs": [
    {
     "data": {
      "text/plain": [
       "<matplotlib.axes._subplots.AxesSubplot at 0x284787b1d08>"
      ]
     },
     "execution_count": 19,
     "metadata": {},
     "output_type": "execute_result"
    },
    {
     "data": {
      "image/png": "[encoded data removed]",
      "text/plain": [
       "<Figure size 1440x720 with 2 Axes>"
      ]
     },
     "metadata": {
      "needs_background": "light"
     },
     "output_type": "display_data"
    }
   ],
   "source": [
    "plt.figure(figsize=(20,10))\n",
    "sns.heatmap(ocean)"
   ]
  },
  {
   "cell_type": "code",
   "execution_count": 20,
   "metadata": {},
   "outputs": [],
   "source": [
    "trash_counter = 0\n",
    "\n",
    "for row in range(len(ocean.index)):\n",
    "    for column in range(len(ocean.columns)):\n",
    "        if ocean.at[row, column] == 1:\n",
    "            trash_counter+= 1"
   ]
  },
  {
   "cell_type": "code",
   "execution_count": 21,
   "metadata": {
    "scrolled": false
   },
   "outputs": [
    {
     "data": {
      "text/plain": [
       "2000"
      ]
     },
     "execution_count": 21,
     "metadata": {},
     "output_type": "execute_result"
    }
   ],
   "source": [
    "trash_counter"
   ]
  },
  {
   "cell_type": "code",
   "execution_count": 22,
   "metadata": {},
   "outputs": [],
   "source": [
    "trash_counter = 0\n",
    "\n",
    "for row in range(len(ant_map.index)):\n",
    "    for column in range(len(ant_map.columns)):\n",
    "        if ant_map.at[row, column] == 1:\n",
    "            trash_counter+= 1"
   ]
  },
  {
   "cell_type": "code",
   "execution_count": 23,
   "metadata": {},
   "outputs": [
    {
     "data": {
      "text/plain": [
       "200"
      ]
     },
     "execution_count": 23,
     "metadata": {},
     "output_type": "execute_result"
    }
   ],
   "source": [
    "trash_counter"
   ]
  },
  {
   "cell_type": "code",
   "execution_count": 24,
   "metadata": {},
   "outputs": [
    {
     "data": {
      "text/html": [
       "<div>\n",
       "<style scoped>\n",
       "    .dataframe tbody tr th:only-of-type {\n",
       "        vertical-align: middle;\n",
       "    }\n",
       "\n",
       "    .dataframe tbody tr th {\n",
       "        vertical-align: top;\n",
       "    }\n",
       "\n",
       "    .dataframe thead th {\n",
       "        text-align: right;\n",
       "    }\n",
       "</style>\n",
       "<table border=\"1\" class=\"dataframe\">\n",
       "  <thead>\n",
       "    <tr style=\"text-align: right;\">\n",
       "      <th></th>\n",
       "      <th>0</th>\n",
       "      <th>1</th>\n",
       "      <th>2</th>\n",
       "      <th>3</th>\n",
       "      <th>4</th>\n",
       "      <th>5</th>\n",
       "      <th>6</th>\n",
       "      <th>7</th>\n",
       "      <th>8</th>\n",
       "      <th>9</th>\n",
       "      <th>...</th>\n",
       "      <th>90</th>\n",
       "      <th>91</th>\n",
       "      <th>92</th>\n",
       "      <th>93</th>\n",
       "      <th>94</th>\n",
       "      <th>95</th>\n",
       "      <th>96</th>\n",
       "      <th>97</th>\n",
       "      <th>98</th>\n",
       "      <th>99</th>\n",
       "    </tr>\n",
       "  </thead>\n",
       "  <tbody>\n",
       "    <tr>\n",
       "      <td>0</td>\n",
       "      <td>0</td>\n",
       "      <td>0</td>\n",
       "      <td>0</td>\n",
       "      <td>0</td>\n",
       "      <td>0</td>\n",
       "      <td>0</td>\n",
       "      <td>0</td>\n",
       "      <td>0</td>\n",
       "      <td>0</td>\n",
       "      <td>0</td>\n",
       "      <td>...</td>\n",
       "      <td>0</td>\n",
       "      <td>0</td>\n",
       "      <td>0</td>\n",
       "      <td>0</td>\n",
       "      <td>0</td>\n",
       "      <td>0</td>\n",
       "      <td>0</td>\n",
       "      <td>0</td>\n",
       "      <td>0</td>\n",
       "      <td>0</td>\n",
       "    </tr>\n",
       "    <tr>\n",
       "      <td>1</td>\n",
       "      <td>0</td>\n",
       "      <td>0</td>\n",
       "      <td>0</td>\n",
       "      <td>0</td>\n",
       "      <td>0</td>\n",
       "      <td>0</td>\n",
       "      <td>0</td>\n",
       "      <td>0</td>\n",
       "      <td>0</td>\n",
       "      <td>0</td>\n",
       "      <td>...</td>\n",
       "      <td>0</td>\n",
       "      <td>0</td>\n",
       "      <td>0</td>\n",
       "      <td>0</td>\n",
       "      <td>0</td>\n",
       "      <td>0</td>\n",
       "      <td>0</td>\n",
       "      <td>0</td>\n",
       "      <td>0</td>\n",
       "      <td>0</td>\n",
       "    </tr>\n",
       "    <tr>\n",
       "      <td>2</td>\n",
       "      <td>0</td>\n",
       "      <td>0</td>\n",
       "      <td>0</td>\n",
       "      <td>0</td>\n",
       "      <td>0</td>\n",
       "      <td>0</td>\n",
       "      <td>0</td>\n",
       "      <td>0</td>\n",
       "      <td>0</td>\n",
       "      <td>0</td>\n",
       "      <td>...</td>\n",
       "      <td>0</td>\n",
       "      <td>0</td>\n",
       "      <td>0</td>\n",
       "      <td>0</td>\n",
       "      <td>0</td>\n",
       "      <td>0</td>\n",
       "      <td>0</td>\n",
       "      <td>0</td>\n",
       "      <td>0</td>\n",
       "      <td>0</td>\n",
       "    </tr>\n",
       "    <tr>\n",
       "      <td>3</td>\n",
       "      <td>0</td>\n",
       "      <td>0</td>\n",
       "      <td>0</td>\n",
       "      <td>0</td>\n",
       "      <td>0</td>\n",
       "      <td>0</td>\n",
       "      <td>0</td>\n",
       "      <td>0</td>\n",
       "      <td>0</td>\n",
       "      <td>0</td>\n",
       "      <td>...</td>\n",
       "      <td>0</td>\n",
       "      <td>0</td>\n",
       "      <td>0</td>\n",
       "      <td>0</td>\n",
       "      <td>0</td>\n",
       "      <td>0</td>\n",
       "      <td>0</td>\n",
       "      <td>0</td>\n",
       "      <td>0</td>\n",
       "      <td>0</td>\n",
       "    </tr>\n",
       "    <tr>\n",
       "      <td>4</td>\n",
       "      <td>0</td>\n",
       "      <td>0</td>\n",
       "      <td>0</td>\n",
       "      <td>0</td>\n",
       "      <td>0</td>\n",
       "      <td>0</td>\n",
       "      <td>0</td>\n",
       "      <td>0</td>\n",
       "      <td>0</td>\n",
       "      <td>0</td>\n",
       "      <td>...</td>\n",
       "      <td>0</td>\n",
       "      <td>0</td>\n",
       "      <td>0</td>\n",
       "      <td>0</td>\n",
       "      <td>0</td>\n",
       "      <td>0</td>\n",
       "      <td>0</td>\n",
       "      <td>0</td>\n",
       "      <td>0</td>\n",
       "      <td>1</td>\n",
       "    </tr>\n",
       "    <tr>\n",
       "      <td>...</td>\n",
       "      <td>...</td>\n",
       "      <td>...</td>\n",
       "      <td>...</td>\n",
       "      <td>...</td>\n",
       "      <td>...</td>\n",
       "      <td>...</td>\n",
       "      <td>...</td>\n",
       "      <td>...</td>\n",
       "      <td>...</td>\n",
       "      <td>...</td>\n",
       "      <td>...</td>\n",
       "      <td>...</td>\n",
       "      <td>...</td>\n",
       "      <td>...</td>\n",
       "      <td>...</td>\n",
       "      <td>...</td>\n",
       "      <td>...</td>\n",
       "      <td>...</td>\n",
       "      <td>...</td>\n",
       "      <td>...</td>\n",
       "      <td>...</td>\n",
       "    </tr>\n",
       "    <tr>\n",
       "      <td>95</td>\n",
       "      <td>0</td>\n",
       "      <td>0</td>\n",
       "      <td>0</td>\n",
       "      <td>0</td>\n",
       "      <td>0</td>\n",
       "      <td>0</td>\n",
       "      <td>0</td>\n",
       "      <td>0</td>\n",
       "      <td>0</td>\n",
       "      <td>0</td>\n",
       "      <td>...</td>\n",
       "      <td>0</td>\n",
       "      <td>0</td>\n",
       "      <td>0</td>\n",
       "      <td>0</td>\n",
       "      <td>0</td>\n",
       "      <td>0</td>\n",
       "      <td>0</td>\n",
       "      <td>0</td>\n",
       "      <td>1</td>\n",
       "      <td>0</td>\n",
       "    </tr>\n",
       "    <tr>\n",
       "      <td>96</td>\n",
       "      <td>0</td>\n",
       "      <td>0</td>\n",
       "      <td>0</td>\n",
       "      <td>0</td>\n",
       "      <td>0</td>\n",
       "      <td>0</td>\n",
       "      <td>0</td>\n",
       "      <td>0</td>\n",
       "      <td>0</td>\n",
       "      <td>0</td>\n",
       "      <td>...</td>\n",
       "      <td>0</td>\n",
       "      <td>0</td>\n",
       "      <td>0</td>\n",
       "      <td>0</td>\n",
       "      <td>0</td>\n",
       "      <td>0</td>\n",
       "      <td>0</td>\n",
       "      <td>0</td>\n",
       "      <td>0</td>\n",
       "      <td>0</td>\n",
       "    </tr>\n",
       "    <tr>\n",
       "      <td>97</td>\n",
       "      <td>0</td>\n",
       "      <td>0</td>\n",
       "      <td>0</td>\n",
       "      <td>0</td>\n",
       "      <td>0</td>\n",
       "      <td>0</td>\n",
       "      <td>0</td>\n",
       "      <td>0</td>\n",
       "      <td>0</td>\n",
       "      <td>0</td>\n",
       "      <td>...</td>\n",
       "      <td>0</td>\n",
       "      <td>0</td>\n",
       "      <td>0</td>\n",
       "      <td>0</td>\n",
       "      <td>0</td>\n",
       "      <td>0</td>\n",
       "      <td>0</td>\n",
       "      <td>0</td>\n",
       "      <td>0</td>\n",
       "      <td>0</td>\n",
       "    </tr>\n",
       "    <tr>\n",
       "      <td>98</td>\n",
       "      <td>0</td>\n",
       "      <td>0</td>\n",
       "      <td>0</td>\n",
       "      <td>0</td>\n",
       "      <td>0</td>\n",
       "      <td>0</td>\n",
       "      <td>0</td>\n",
       "      <td>0</td>\n",
       "      <td>0</td>\n",
       "      <td>0</td>\n",
       "      <td>...</td>\n",
       "      <td>0</td>\n",
       "      <td>0</td>\n",
       "      <td>0</td>\n",
       "      <td>0</td>\n",
       "      <td>0</td>\n",
       "      <td>0</td>\n",
       "      <td>0</td>\n",
       "      <td>0</td>\n",
       "      <td>0</td>\n",
       "      <td>0</td>\n",
       "    </tr>\n",
       "    <tr>\n",
       "      <td>99</td>\n",
       "      <td>0</td>\n",
       "      <td>0</td>\n",
       "      <td>1</td>\n",
       "      <td>0</td>\n",
       "      <td>1</td>\n",
       "      <td>0</td>\n",
       "      <td>0</td>\n",
       "      <td>0</td>\n",
       "      <td>0</td>\n",
       "      <td>0</td>\n",
       "      <td>...</td>\n",
       "      <td>0</td>\n",
       "      <td>0</td>\n",
       "      <td>0</td>\n",
       "      <td>0</td>\n",
       "      <td>0</td>\n",
       "      <td>0</td>\n",
       "      <td>0</td>\n",
       "      <td>0</td>\n",
       "      <td>0</td>\n",
       "      <td>0</td>\n",
       "    </tr>\n",
       "  </tbody>\n",
       "</table>\n",
       "<p>100 rows × 100 columns</p>\n",
       "</div>"
      ],
      "text/plain": [
       "    0   1   2   3   4   5   6   7   8   9   ...  90  91  92  93  94  95  96  \\\n",
       "0    0   0   0   0   0   0   0   0   0   0  ...   0   0   0   0   0   0   0   \n",
       "1    0   0   0   0   0   0   0   0   0   0  ...   0   0   0   0   0   0   0   \n",
       "2    0   0   0   0   0   0   0   0   0   0  ...   0   0   0   0   0   0   0   \n",
       "3    0   0   0   0   0   0   0   0   0   0  ...   0   0   0   0   0   0   0   \n",
       "4    0   0   0   0   0   0   0   0   0   0  ...   0   0   0   0   0   0   0   \n",
       "..  ..  ..  ..  ..  ..  ..  ..  ..  ..  ..  ...  ..  ..  ..  ..  ..  ..  ..   \n",
       "95   0   0   0   0   0   0   0   0   0   0  ...   0   0   0   0   0   0   0   \n",
       "96   0   0   0   0   0   0   0   0   0   0  ...   0   0   0   0   0   0   0   \n",
       "97   0   0   0   0   0   0   0   0   0   0  ...   0   0   0   0   0   0   0   \n",
       "98   0   0   0   0   0   0   0   0   0   0  ...   0   0   0   0   0   0   0   \n",
       "99   0   0   1   0   1   0   0   0   0   0  ...   0   0   0   0   0   0   0   \n",
       "\n",
       "    97  98  99  \n",
       "0    0   0   0  \n",
       "1    0   0   0  \n",
       "2    0   0   0  \n",
       "3    0   0   0  \n",
       "4    0   0   1  \n",
       "..  ..  ..  ..  \n",
       "95   0   1   0  \n",
       "96   0   0   0  \n",
       "97   0   0   0  \n",
       "98   0   0   0  \n",
       "99   0   0   0  \n",
       "\n",
       "[100 rows x 100 columns]"
      ]
     },
     "execution_count": 24,
     "metadata": {},
     "output_type": "execute_result"
    }
   ],
   "source": [
    "ant_map"
   ]
  }
 ],
 "metadata": {
  "kernelspec": {
   "display_name": "Python 3",
   "language": "python",
   "name": "python3"
  },
  "language_info": {
   "codemirror_mode": {
    "name": "ipython",
    "version": 3
   },
   "file_extension": ".py",
   "mimetype": "text/x-python",
   "name": "python",
   "nbconvert_exporter": "python",
   "pygments_lexer": "ipython3",
   "version": "3.7.4"
  }
 },
 "nbformat": 4,
 "nbformat_minor": 2
}
