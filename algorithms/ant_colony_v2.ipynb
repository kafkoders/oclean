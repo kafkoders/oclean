{
 "cells": [
  {
   "cell_type": "code",
   "execution_count": 1,
   "metadata": {},
   "outputs": [],
   "source": [
    "import itertools\n",
    "from random import random, randrange, choice\n",
    "import math"
   ]
  },
  {
   "cell_type": "code",
   "execution_count": 2,
   "metadata": {},
   "outputs": [],
   "source": [
    "class Ant(object):\n",
    "    def __init__(self, id_, row, column, memory_size, has_trash):\n",
    "        self.id_ = id_\n",
    "        self.row = row\n",
    "        self.column = column\n",
    "        self.memory_size = memory_size\n",
    "        self.has_trash = has_trash\n",
    "        self.memories = [0] * self.memory_size\n",
    "        \n",
    "    def update_position(self, new_row, new_column):\n",
    "        self.column = new_column\n",
    "        self.row = new_row\n",
    "        \n",
    "    def count_memories(self):\n",
    "        return self.memories.count(1)\n",
    "    \n",
    "    def add_memory(self, value):\n",
    "        self.memories.pop()\n",
    "        self.memories.insert(0, value)"
   ]
  },
  {
   "cell_type": "code",
   "execution_count": 3,
   "metadata": {},
   "outputs": [],
   "source": [
    "def check_possible_moves(row, column, ocean, ant_map, vision_range=1):\n",
    "    left_row = row\n",
    "    if -1 < row - vision_range < len(ocean.index):\n",
    "        left_row = row - vision_range\n",
    "    \n",
    "    right_row = row\n",
    "    if -1 < row + vision_range < len(ocean.index):\n",
    "        right_row = row + vision_range\n",
    "    \n",
    "    left_column = column\n",
    "    if -1 < column - vision_range < len(ocean.columns):\n",
    "        left_column = column - vision_range\n",
    "        \n",
    "    right_column = column\n",
    "    if -1 < column + vision_range < len(ocean.columns):\n",
    "        right_column = column + vision_range\n",
    "    \n",
    "    ant_vision = ant_map.loc[left_row:right_row, left_column:right_column]\n",
    "\n",
    "    moves_row = ant_vision.index.tolist()\n",
    "    moves_column = ant_vision.columns.tolist()\n",
    "    \n",
    "    possible_moves = [[r,c] for r in moves_row for c in moves_column if ant_map.at[r, c] == 0 and [r, c] != [row, column]]\n",
    "    \n",
    "    return possible_moves"
   ]
  },
  {
   "cell_type": "code",
   "execution_count": 4,
   "metadata": {},
   "outputs": [],
   "source": [
    "\"\"\"def drop_probability(ant, drop_constant):\n",
    "    fx = ant.count_memories() / ant.memory_size\n",
    "    return (fx / drop_constant + fx)**2\"\"\";"
   ]
  },
  {
   "cell_type": "code",
   "execution_count": 5,
   "metadata": {},
   "outputs": [],
   "source": [
    "\"\"\"def pick_probability(ant, pick_constant):\n",
    "    fx = ant.count_memories() / ant.memory_size\n",
    "    return (pick_constant / pick_constant + fx)**2\"\"\";"
   ]
  },
  {
   "cell_type": "code",
   "execution_count": 6,
   "metadata": {},
   "outputs": [],
   "source": [
    "def calculate_euclidean_distance(from_point, to_point):\n",
    "    a = to_point[0] - from_point[0]\n",
    "    b = to_point[1] - from_point[1]\n",
    "\n",
    "    return math.sqrt((a**2) + (b**2))"
   ]
  },
  {
   "cell_type": "code",
   "execution_count": 7,
   "metadata": {},
   "outputs": [],
   "source": [
    "def calculate_f(row, column, alpha, ocean, ant_map):\n",
    "    s = 0\n",
    "    summation = 0\n",
    "    \n",
    "    possible_moves = check_possible_moves(row=row,\n",
    "                                          column=column,\n",
    "                                          ocean=ocean,\n",
    "                                          ant_map=ant_map,\n",
    "                                          vision_range=1)\n",
    "    \n",
    "    for move in possible_moves:\n",
    "        s += 1\n",
    "        if ocean.at[move[0], move[1]] == 1:\n",
    "            distance = calculate_euclidean_distance(from_point=[move[0], move[1]],\n",
    "                                                    to_point=[row, column])\n",
    "            summation += (1 - distance/alpha)\n",
    "\n",
    "    try:\n",
    "        fi = summation/s\n",
    "        if fi < 0:\n",
    "            fi = 0\n",
    "    except ZeroDivisionError:\n",
    "        fi = 0\n",
    "    \n",
    "    return fi"
   ]
  },
  {
   "cell_type": "code",
   "execution_count": 8,
   "metadata": {},
   "outputs": [],
   "source": [
    "def move_ants(ocean, ants, ant_map, drop_constant, pick_constant, alpha):\n",
    "    random_value = random()\n",
    "    \n",
    "    for ant in ants:\n",
    "        possible_moves = check_possible_moves(row=ant.row,\n",
    "                                              column=ant.column,\n",
    "                                              ocean=ocean,\n",
    "                                              ant_map=ant_map,\n",
    "                                              vision_range=1)\n",
    "        \n",
    "        if len(possible_moves) > 0:\n",
    "            ant_map.at[ant.row, ant.column] = 0\n",
    "            \n",
    "            move = choice(possible_moves)\n",
    "\n",
    "            ant_map.at[move[0], move[1]] = 1\n",
    "            ant.row = move[0]\n",
    "            ant.column = move[1]\n",
    "            \n",
    "            if ocean.at[move[0], move[1]] == 1 and ant.has_trash == 0:\n",
    "                fi = calculate_f(row=move[0],\n",
    "                                 column=move[1],\n",
    "                                 alpha=alpha,\n",
    "                                 ocean=ocean,\n",
    "                                 ant_map=ant_map)\n",
    "                \n",
    "                pick_value = (pick_constant / (pick_constant + fi))**2\n",
    "                \n",
    "                if random_value < pick_value:\n",
    "                    ocean.at[move[0], move[1]] = 0\n",
    "                    ant.has_trash = 1\n",
    "                \n",
    "                ant.add_memory(1)\n",
    "            elif ocean.at[move[0], move[1]] == 1 and ant.has_trash == 1:\n",
    "                ant.add_memory(1)\n",
    "            elif ocean.at[move[0], move[1]] == 0 and ant.has_trash == 1:\n",
    "                fi = calculate_f(row=move[0],\n",
    "                                 column=move[1],\n",
    "                                 alpha=alpha,\n",
    "                                 ocean=ocean,\n",
    "                                 ant_map=ant_map)\n",
    "                \n",
    "                drop_value = 2 * fi if fi < drop_constant else 1\n",
    "                \n",
    "                if random_value < drop_value:\n",
    "                    ocean.at[move[0], move[1]] = 1\n",
    "                    ant.has_trash = 0\n",
    "                \n",
    "                ant.add_memory(0)\n",
    "            elif ocean.at[move[0], move[1]] == 0 and ant.has_trash == 0:\n",
    "                ant.add_memory(0)"
   ]
  },
  {
   "cell_type": "markdown",
   "metadata": {},
   "source": [
    "**DISEÑAR ALGORITMO CON UNA HORMIGA PARA VER SU COMPORTAMIENTO Y EFICIENCIA**\n",
    "\n",
    "Una hormiga comprobará todas las posiciones visitables del mapa, y si dichas posiciones están o no en su memoria, que en caso de estarlo y no ser un punto de recogida no se visitarán. Pero si por el contrario, la hormiga tiene basura y ha depositado basura en una posición aún en su memoria, retrocederá hasta dicha concentración de basura para soltarla, sino buscará una posible ubicación aleatoria. Sino, por defecto, la hormiga sigue un recorrido aleatorio tenga o no basura y/o información del destino."
   ]
  },
  {
   "cell_type": "code",
   "execution_count": 9,
   "metadata": {},
   "outputs": [],
   "source": [
    "import pickle"
   ]
  },
  {
   "cell_type": "code",
   "execution_count": 10,
   "metadata": {},
   "outputs": [],
   "source": [
    "with open('test_data.pickle', 'rb') as data:\n",
    "    ocean = pickle.load(data)"
   ]
  },
  {
   "cell_type": "code",
   "execution_count": 11,
   "metadata": {},
   "outputs": [
    {
     "name": "stdout",
     "output_type": "stream",
     "text": [
      "BASURA INICIAL => 967\n"
     ]
    }
   ],
   "source": [
    "total_trash = 0\n",
    "\n",
    "for _, row in ocean.iterrows():\n",
    "    for value in row:\n",
    "        if value == 1:\n",
    "            total_trash += 1\n",
    "            \n",
    "print(f\"BASURA INICIAL => {total_trash}\")"
   ]
  },
  {
   "cell_type": "code",
   "execution_count": 12,
   "metadata": {},
   "outputs": [],
   "source": [
    "import matplotlib.pyplot as plt\n",
    "import seaborn as sns"
   ]
  },
  {
   "cell_type": "code",
   "execution_count": 13,
   "metadata": {
    "scrolled": false
   },
   "outputs": [],
   "source": [
    "plt.figure(figsize=(20,10))\n",
    "sns.heatmap(ocean, cmap=['#b1dff6', '#804000'], vmin=0, vmax=1)\n",
    "plt.close()"
   ]
  },
  {
   "cell_type": "code",
   "execution_count": 14,
   "metadata": {},
   "outputs": [],
   "source": [
    "import pandas as pd"
   ]
  },
  {
   "cell_type": "code",
   "execution_count": 15,
   "metadata": {},
   "outputs": [],
   "source": [
    "data = [[0 for _ in range(len(ocean.columns))] for _ in range(len(ocean.index))]\n",
    "ant_map = pd.DataFrame(data)"
   ]
  },
  {
   "cell_type": "code",
   "execution_count": 16,
   "metadata": {},
   "outputs": [],
   "source": [
    "ants = list()\n",
    "\n",
    "total_ants = 300\n",
    "memory_size = 10"
   ]
  },
  {
   "cell_type": "code",
   "execution_count": 17,
   "metadata": {},
   "outputs": [],
   "source": [
    "for ant in range(1, total_ants + 1):\n",
    "    flag = False\n",
    "    \n",
    "    while flag is False:\n",
    "        row = randrange(len(ocean.index))\n",
    "        column = randrange(len(ocean.columns))\n",
    "\n",
    "        if ant_map.at[row, column] == 1:\n",
    "            pass\n",
    "\n",
    "        ants.append(Ant(id_=ant,\n",
    "                        row=row,\n",
    "                        column=column,\n",
    "                        memory_size=memory_size,\n",
    "                        has_trash=0))\n",
    "\n",
    "        ant_map.at[row, column] = 1\n",
    "        flag = True"
   ]
  },
  {
   "cell_type": "code",
   "execution_count": 18,
   "metadata": {
    "scrolled": true
   },
   "outputs": [
    {
     "name": "stdout",
     "output_type": "stream",
     "text": [
      "Step Nº50000\n",
      "Step Nº49000\n",
      "Step Nº48000\n",
      "Step Nº47000\n",
      "Step Nº46000\n",
      "Step Nº45000\n",
      "Step Nº44000\n",
      "Step Nº43000\n",
      "Step Nº42000\n",
      "Step Nº41000\n",
      "Step Nº40000\n",
      "Step Nº39000\n",
      "Step Nº38000\n",
      "Step Nº37000\n",
      "Step Nº36000\n",
      "Step Nº35000\n",
      "Step Nº34000\n",
      "Step Nº33000\n",
      "Step Nº32000\n",
      "Step Nº31000\n",
      "Step Nº30000\n",
      "Step Nº29000\n",
      "Step Nº28000\n",
      "Step Nº27000\n",
      "Step Nº26000\n",
      "Step Nº25000\n",
      "Step Nº24000\n",
      "Step Nº23000\n",
      "Step Nº22000\n",
      "Step Nº21000\n",
      "Step Nº20000\n",
      "Step Nº19000\n",
      "Step Nº18000\n",
      "Step Nº17000\n",
      "Step Nº16000\n",
      "Step Nº15000\n",
      "Step Nº14000\n",
      "Step Nº13000\n",
      "Step Nº12000\n",
      "Step Nº11000\n",
      "Step Nº10000\n",
      "Step Nº9000\n",
      "Step Nº8000\n",
      "Step Nº7000\n",
      "Step Nº6000\n",
      "Step Nº5000\n",
      "Step Nº4000\n",
      "Step Nº3000\n",
      "Step Nº2000\n",
      "Step Nº1000\n",
      "CPU times: user 1h 19min 3s, sys: 1min 26s, total: 1h 20min 29s\n",
      "Wall time: 3h 8min 9s\n"
     ]
    }
   ],
   "source": [
    "%%time\n",
    "\n",
    "total_steps = steps = 50000\n",
    "drop_constant = .35\n",
    "pick_constant = .1\n",
    "alpha = 2.1\n",
    "\n",
    "while steps > 0:\n",
    "    move_ants(ocean=ocean,\n",
    "              ants=ants,\n",
    "              ant_map=ant_map,\n",
    "              drop_constant=drop_constant,\n",
    "              pick_constant=pick_constant,\n",
    "              alpha=alpha)\n",
    "    \n",
    "    if steps % 1000 == 0:\n",
    "        print(f\"Step Nº{steps}\")\n",
    "        fig = plt.figure(figsize=(20,15))\n",
    "        ax = sns.heatmap(ocean, annot=False, cmap=['#b1dff6', '#804000'], vmin=0, vmax=1, cbar=False)\n",
    "        ax.set_axis_off()\n",
    "        fig.add_axes(ax)\n",
    "        ax.get_legend()\n",
    "        plt.savefig('images/step_' + str(total_steps - steps) + '.png', transparent=True)\n",
    "        plt.close()\n",
    "    \n",
    "    steps -= 1\n",
    "\n",
    "fig = plt.figure(figsize=(20,15))\n",
    "ax = sns.heatmap(ocean, annot=False, cmap=['#b1dff6', '#804000'], vmin=0, vmax=1, cbar=False)\n",
    "ax.set_axis_off()\n",
    "fig.add_axes(ax)\n",
    "ax.get_legend()\n",
    "plt.savefig('images/step_' + str(total_steps - steps) + '.png', transparent=True)\n",
    "plt.close()"
   ]
  },
  {
   "cell_type": "code",
   "execution_count": 19,
   "metadata": {
    "scrolled": false
   },
   "outputs": [
    {
     "data": {
      "text/plain": [
       "<matplotlib.axes._subplots.AxesSubplot at 0x1a1a218fd0>"
      ]
     },
     "execution_count": 19,
     "metadata": {},
     "output_type": "execute_result"
    },
    {
     "data": {
      "image/png": "[encoded data removed]",
      "text/plain": [
       "<Figure size 1440x720 with 2 Axes>"
      ]
     },
     "metadata": {
      "needs_background": "light"
     },
     "output_type": "display_data"
    }
   ],
   "source": [
    "plt.figure(figsize=(20,10))\n",
    "sns.heatmap(ocean, cmap=['#b1dff6', '#804000'], vmin=0, vmax=1)"
   ]
  },
  {
   "cell_type": "code",
   "execution_count": 20,
   "metadata": {},
   "outputs": [
    {
     "name": "stdout",
     "output_type": "stream",
     "text": [
      "BASURA FINAL => 900\n"
     ]
    }
   ],
   "source": [
    "trash_count = 0\n",
    "\n",
    "for _, row in ocean.iterrows():\n",
    "    for value in row:\n",
    "        if value == 1:\n",
    "            trash_count += 1\n",
    "            \n",
    "print(f\"BASURA FINAL => {trash_count}\")"
   ]
  },
  {
   "cell_type": "code",
   "execution_count": 21,
   "metadata": {},
   "outputs": [
    {
     "name": "stdout",
     "output_type": "stream",
     "text": [
      "HORMIGA 2 CON BASURA!\n",
      "HORMIGA 8 CON BASURA!\n",
      "HORMIGA 10 CON BASURA!\n",
      "HORMIGA 11 CON BASURA!\n",
      "HORMIGA 12 CON BASURA!\n",
      "HORMIGA 24 CON BASURA!\n",
      "HORMIGA 25 CON BASURA!\n",
      "HORMIGA 29 CON BASURA!\n",
      "HORMIGA 31 CON BASURA!\n",
      "HORMIGA 33 CON BASURA!\n",
      "HORMIGA 38 CON BASURA!\n",
      "HORMIGA 44 CON BASURA!\n",
      "HORMIGA 46 CON BASURA!\n",
      "HORMIGA 61 CON BASURA!\n",
      "HORMIGA 67 CON BASURA!\n",
      "HORMIGA 68 CON BASURA!\n",
      "HORMIGA 73 CON BASURA!\n",
      "HORMIGA 78 CON BASURA!\n",
      "HORMIGA 80 CON BASURA!\n",
      "HORMIGA 81 CON BASURA!\n",
      "HORMIGA 82 CON BASURA!\n",
      "HORMIGA 83 CON BASURA!\n",
      "HORMIGA 92 CON BASURA!\n",
      "HORMIGA 101 CON BASURA!\n",
      "HORMIGA 106 CON BASURA!\n",
      "HORMIGA 109 CON BASURA!\n",
      "HORMIGA 119 CON BASURA!\n",
      "HORMIGA 123 CON BASURA!\n",
      "HORMIGA 124 CON BASURA!\n",
      "HORMIGA 131 CON BASURA!\n",
      "HORMIGA 141 CON BASURA!\n",
      "HORMIGA 150 CON BASURA!\n",
      "HORMIGA 156 CON BASURA!\n",
      "HORMIGA 162 CON BASURA!\n",
      "HORMIGA 164 CON BASURA!\n",
      "HORMIGA 166 CON BASURA!\n",
      "HORMIGA 168 CON BASURA!\n",
      "HORMIGA 169 CON BASURA!\n",
      "HORMIGA 171 CON BASURA!\n",
      "HORMIGA 177 CON BASURA!\n",
      "HORMIGA 180 CON BASURA!\n",
      "HORMIGA 181 CON BASURA!\n",
      "HORMIGA 185 CON BASURA!\n",
      "HORMIGA 193 CON BASURA!\n",
      "HORMIGA 197 CON BASURA!\n",
      "HORMIGA 207 CON BASURA!\n",
      "HORMIGA 213 CON BASURA!\n",
      "HORMIGA 214 CON BASURA!\n",
      "HORMIGA 223 CON BASURA!\n",
      "HORMIGA 227 CON BASURA!\n",
      "HORMIGA 230 CON BASURA!\n",
      "HORMIGA 240 CON BASURA!\n",
      "HORMIGA 244 CON BASURA!\n",
      "HORMIGA 246 CON BASURA!\n",
      "HORMIGA 247 CON BASURA!\n",
      "HORMIGA 254 CON BASURA!\n",
      "HORMIGA 258 CON BASURA!\n",
      "HORMIGA 262 CON BASURA!\n",
      "HORMIGA 264 CON BASURA!\n",
      "HORMIGA 267 CON BASURA!\n",
      "HORMIGA 269 CON BASURA!\n",
      "HORMIGA 276 CON BASURA!\n",
      "HORMIGA 277 CON BASURA!\n",
      "HORMIGA 290 CON BASURA!\n",
      "HORMIGA 296 CON BASURA!\n",
      "HORMIGA 297 CON BASURA!\n",
      "HORMIGA 298 CON BASURA!\n"
     ]
    }
   ],
   "source": [
    "for ant in ants:\n",
    "    if ant.has_trash == 1:\n",
    "        print(f\"HORMIGA {ant.id_} CON BASURA!\")"
   ]
  },
  {
   "cell_type": "code",
   "execution_count": 22,
   "metadata": {},
   "outputs": [
    {
     "name": "stdout",
     "output_type": "stream",
     "text": [
      "HORMIGAS CON BASURA AL FINAL => 67\n"
     ]
    }
   ],
   "source": [
    "ants_with_trash = 0\n",
    "\n",
    "for ant in ants:\n",
    "    if ant.has_trash == 1:\n",
    "        ants_with_trash += 1\n",
    "        \n",
    "print(f\"HORMIGAS CON BASURA AL FINAL => {ants_with_trash}\")"
   ]
  }
 ],
 "metadata": {
  "kernelspec": {
   "display_name": "Python 3",
   "language": "python",
   "name": "python3"
  },
  "language_info": {
   "codemirror_mode": {
    "name": "ipython",
    "version": 3
   },
   "file_extension": ".py",
   "mimetype": "text/x-python",
   "name": "python",
   "nbconvert_exporter": "python",
   "pygments_lexer": "ipython3",
   "version": "3.7.0"
  }
 },
 "nbformat": 4,
 "nbformat_minor": 2
}
