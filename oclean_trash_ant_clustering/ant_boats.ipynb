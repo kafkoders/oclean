{
 "cells": [
  {
   "cell_type": "code",
   "execution_count": null,
   "metadata": {},
   "outputs": [],
   "source": [
    "import pandas as pd\n",
    "import numpy as np\n",
    "import pickle\n",
    "import seaborn as sns\n",
    "import matplotlib.pyplot as plt\n",
    "import random\n",
    "import math\n",
    "import copy"
   ]
  },
  {
   "cell_type": "code",
   "execution_count": null,
   "metadata": {},
   "outputs": [],
   "source": [
    "class AntMemory:\n",
    "    def __init__(self, size):\n",
    "        self.memory = [0] * size\n",
    "        \n",
    "    def get_trash(self):\n",
    "        return self.memory.count(1)\n",
    "    \n",
    "    def insert_value(self, value):\n",
    "        self.memory.pop()\n",
    "        self.memory.insert(0, value)\n",
    "        return"
   ]
  },
  {
   "cell_type": "code",
   "execution_count": null,
   "metadata": {},
   "outputs": [],
   "source": [
    "class Ant:\n",
    "    def __init__(self, size):\n",
    "        self.payload = 0\n",
    "        self.memory = AntMemory(size)\n",
    "        \n",
    "    def random_move(self):\n",
    "        x = y = 0\n",
    "        while (x is 0 and y is 0):\n",
    "            x = random.randint(-1, 1)\n",
    "            y = random.randint(-1, 1)\n",
    "            \n",
    "        return x, y"
   ]
  },
  {
   "cell_type": "code",
   "execution_count": null,
   "metadata": {},
   "outputs": [],
   "source": [
    "def move_ants(ants, size):\n",
    "    test_ants = ants[ants['ant'].apply(lambda x: isinstance(x, Ant))]\n",
    "    for _, row in test_ants.iterrows():\n",
    "        ant = row['ant']\n",
    "        flag = True\n",
    "        while flag:\n",
    "            x, y = ant.random_move()\n",
    "            if (row['x'] + x) < 0 or (row['y'] + y) < 0:\n",
    "                continue\n",
    "            elif (row['x'] + x) == size or (row['y'] + y) == size:\n",
    "                continue\n",
    "            elif isinstance(ants.loc[(ants['x'] == x) & (ants['y'] == y), 'ant'], Ant):\n",
    "                continue\n",
    "            else:\n",
    "                new_x = row['x'] + x\n",
    "                new_y = row['y'] + y\n",
    "                ants.loc[(ants['x'] == row['x']) & (ants['y'] == row['y'])] = [new_x, new_y, ant]\n",
    "                flag = False\n",
    "    return ants"
   ]
  },
  {
   "cell_type": "code",
   "execution_count": null,
   "metadata": {},
   "outputs": [],
   "source": [
    "def calculate_pickup(ant, c_pick):\n",
    "    n_trash = ant.memory.get_trash()\n",
    "    size = len(ant.memory.memory)\n",
    "    fx = n_trash / size\n",
    "    return (c_pick / (c_pick + fx))**2"
   ]
  },
  {
   "cell_type": "code",
   "execution_count": null,
   "metadata": {},
   "outputs": [],
   "source": [
    "def calculate_drop(ant, c_drop):\n",
    "    n_trash = ant.memory.get_trash()\n",
    "    size = len(ant.memory.memory)\n",
    "    fx = n_trash / size\n",
    "    return (fx / (c_drop + fx))**2"
   ]
  },
  {
   "cell_type": "code",
   "execution_count": null,
   "metadata": {},
   "outputs": [],
   "source": [
    "def generate_ants_df(size, number_ants, memory_size):\n",
    "    ants = pd.DataFrame(columns=['x', 'y', 'ant'])\n",
    "    data = np.array([[i, j] for i in range(0, size) for j in range(0, size)])\n",
    "    \n",
    "    ants['x'] = data[:, 0]\n",
    "    ants['y'] = data[:, 1]\n",
    "    \n",
    "    x_rand = random.sample(range(size), number_ants)\n",
    "    y_rand = random.sample(range(size), number_ants)\n",
    "    \n",
    "    for i in range(len(x_rand)):\n",
    "        ants.loc[(ants['x'] == x_rand[i]) & (ants['y'] == y_rand[i]), 'ant'] = Ant(memory_size)\n",
    "\n",
    "    return ants"
   ]
  },
  {
   "cell_type": "code",
   "execution_count": null,
   "metadata": {},
   "outputs": [],
   "source": [
    "with open('../data/test_data.pickle', 'rb') as data:\n",
    "    trash = pickle.load(data)"
   ]
  },
  {
   "cell_type": "code",
   "execution_count": null,
   "metadata": {
    "scrolled": false
   },
   "outputs": [],
   "source": [
    "plt.figure(figsize=(20,10))\n",
    "table = trash.pivot('y', 'x', 'trash')\n",
    "ax = sns.heatmap(table)\n",
    "ax.invert_yaxis()\n",
    "plt.show()"
   ]
  },
  {
   "cell_type": "code",
   "execution_count": null,
   "metadata": {
    "scrolled": false
   },
   "outputs": [],
   "source": [
    "steps = 500\n",
    "ants = generate_ants_df(30, 5, 5)"
   ]
  },
  {
   "cell_type": "code",
   "execution_count": null,
   "metadata": {
    "scrolled": false
   },
   "outputs": [],
   "source": [
    "c_pick = 0.1\n",
    "c_drop = 0.3\n",
    "while steps > 0:\n",
    "    ants = move_ants(ants, 100)\n",
    "    r = random.random()\n",
    "    for index, row in ants.iterrows():\n",
    "        ant = row['ant']\n",
    "        if isinstance(ant, Ant):\n",
    "            if ant.payload == 0:\n",
    "                value = trash.loc[((trash['x'] == row['x']) & (trash['y'] == row['y'])).idxmax(), 'trash']\n",
    "                if value == 1:\n",
    "                    p_pick = calculate_pickup(ant, c_pick)\n",
    "                    if r < p_pick:\n",
    "                        ant.payload = 1\n",
    "                        trash.loc[(trash['x'] == row['x']) & (trash['y'] == row['y']), 'trash'] = 0\n",
    "            elif ant.payload == 1:\n",
    "                value = trash.loc[((trash['x'] == row['x']) & (trash['y'] == row['y'])).idxmax(), 'trash']\n",
    "                if value == 0:\n",
    "                    p_drop = calculate_drop(ant, c_drop)\n",
    "                    if r < p_drop:\n",
    "                        ant.payload = 0\n",
    "                        trash.loc[(trash['x'] == row['x']) & (trash['y'] == row['y']), 'trash'] = 1\n",
    "    \n",
    "    steps -= 1"
   ]
  },
  {
   "cell_type": "code",
   "execution_count": null,
   "metadata": {},
   "outputs": [],
   "source": [
    "plt.figure(figsize=(20,10))\n",
    "table = trash.pivot('y', 'x', 'trash')\n",
    "ax = sns.heatmap(table)\n",
    "ax.invert_yaxis()\n",
    "plt.show()"
   ]
  },
  {
   "cell_type": "code",
   "execution_count": null,
   "metadata": {},
   "outputs": [],
   "source": []
  }
 ],
 "metadata": {
  "kernelspec": {
   "display_name": "Python 3",
   "language": "python",
   "name": "python3"
  },
  "language_info": {
   "codemirror_mode": {
    "name": "ipython",
    "version": 3
   },
   "file_extension": ".py",
   "mimetype": "text/x-python",
   "name": "python",
   "nbconvert_exporter": "python",
   "pygments_lexer": "ipython3",
   "version": "3.7.0"
  }
 },
 "nbformat": 4,
 "nbformat_minor": 2
}
