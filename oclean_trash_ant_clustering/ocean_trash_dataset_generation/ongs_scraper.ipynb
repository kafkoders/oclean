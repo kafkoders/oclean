{
 "cells": [
  {
   "cell_type": "code",
   "execution_count": 1,
   "metadata": {},
   "outputs": [],
   "source": [
    "import requests\n",
    "from lxml.html import fromstring"
   ]
  },
  {
   "cell_type": "code",
   "execution_count": 3,
   "metadata": {},
   "outputs": [],
   "source": [
    "from investpy.user_agent import get_random"
   ]
  },
  {
   "cell_type": "code",
   "execution_count": 4,
   "metadata": {},
   "outputs": [],
   "source": [
    "head = {\n",
    "    \"User-Agent\": get_random(),\n",
    "    \"X-Requested-With\": \"XMLHttpRequest\",\n",
    "    \"Accept\": \"text/html\",\n",
    "    \"Accept-Encoding\": \"gzip, deflate, br\",\n",
    "    \"Connection\": \"keep-alive\",\n",
    "}"
   ]
  },
  {
   "cell_type": "code",
   "execution_count": 61,
   "metadata": {},
   "outputs": [],
   "source": [
    "query = 'ongs save oceans'"
   ]
  },
  {
   "cell_type": "code",
   "execution_count": 71,
   "metadata": {},
   "outputs": [],
   "source": [
    "import time"
   ]
  },
  {
   "cell_type": "code",
   "execution_count": 74,
   "metadata": {
    "scrolled": true
   },
   "outputs": [
    {
     "name": "stdout",
     "output_type": "stream",
     "text": [
      "{'token': 'ee7d81103f122bb171ce1eb2b8da9b44403f2b2da7924b48b3fafe0ba36b5a81', 'name': 'Rethink Plastic. Save Our Seas • Plastic Oceans International', 'url': 'https://plasticoceans.org/', 'description': 'Plastic Oceans International is a global non-profit organization that addresses the issue plastic pollution and how it impacts our waters, sea life and humans.'}\n",
      "{'token': 'ee7d81103f122bb171ce1eb2b8da9b44403f2b2da7924b48b3fafe0ba36b5a81', 'name': 'Ocean Conservancy', 'url': 'https://oceanconservancy.org/', 'description': 'Our ocean unifies our world like nothing else. And saving it from ongoing threats is a cause that affects us all. We are on the front lines of ocean protection,\\xa0...'}\n",
      "{'token': 'ee7d81103f122bb171ce1eb2b8da9b44403f2b2da7924b48b3fafe0ba36b5a81', 'name': 'Sea Shepherd', 'url': 'https://seashepherd.org/', 'description': \"Sea Shepherd Conservation Society is an international non-profit, marine wildlife conservation organization. Established in 1977, our mission is to end the destruction of habitat and slaughter of wildlife in the world's oceans in order to conserve and protect ecosystems and species.\"}\n",
      "{'token': 'ee7d81103f122bb171ce1eb2b8da9b44403f2b2da7924b48b3fafe0ba36b5a81', 'name': 'Parley for the Oceans', 'url': 'https://www.parley.tv/', 'description': 'Parley for the Oceans addresses major threats towards our oceans, the most .... is expected to deliver a new, ambitious agreement to protect present and future\\xa0...'}\n",
      "{'token': 'ee7d81103f122bb171ce1eb2b8da9b44403f2b2da7924b48b3fafe0ba36b5a81', 'name': 'The Ocean Foundation', 'url': 'https://www.oceanfdn.org/', 'description': 'What do you want to do for the ocean? ... on the ground and in the water, and; Promotes the use of diverse tools to protect and restore ocean habitats worldwide.'}\n",
      "{'token': 'ee7d81103f122bb171ce1eb2b8da9b44403f2b2da7924b48b3fafe0ba36b5a81', 'name': 'Waste Free Oceans', 'url': 'https://www.wastefreeoceans.org/', 'description': 'Waste Free Oceans collects and transforms floating ocean plastic by recycling raw material into sustainable products.'}\n"
     ]
    }
   ],
   "source": [
    "url = 'https://www.google.com/search?q=' + query\n",
    "\n",
    "req = requests.get(url, headers=head)\n",
    "\n",
    "root = fromstring(req.text)\n",
    "\n",
    "query = query.replace(' ', '%20')\n",
    "\n",
    "path = root.xpath(f\".//div[@data-async-context='query:{query}']/div\")\n",
    "\n",
    "for val in path:\n",
    "    if val.xpath(\".//h2\"):\n",
    "        for value in val.xpath(\".//h2\"):\n",
    "            if value.text_content() == \"Resultados web\":\n",
    "                for content in val.xpath(\".//div[@class='srg']/div[@class='g']\"):\n",
    "                    name = content.xpath(\".//h3\")[0].text_content()\n",
    "                    website = content.xpath(\".//a\")[0].get(\"href\")\n",
    "\n",
    "                    if not website.__contains__(\"wiki\") and not website.__contains__(\"youtube\"):\n",
    "                        desc = content.xpath(\".//span[@class='st']\")[0].text_content()\n",
    "\n",
    "                        params = {\n",
    "                            \"token\": \"ee7d81103f122bb171ce1eb2b8da9b44403f2b2da7924b48b3fafe0ba36b5a81\",\n",
    "                            \"name\": name.strip(),\n",
    "                            \"url\": website.strip(),\n",
    "                            \"description\": desc.strip(),\n",
    "                        }\n",
    "                        \n",
    "                        print(params)\n",
    "                        \n",
    "                        status = 500\n",
    "                        while status != 200:\n",
    "                            req = requests.post(\"http://t24h.es:50002/v1/organizations\", json=params)\n",
    "                            status = req.status_code"
   ]
  }
 ],
 "metadata": {
  "kernelspec": {
   "display_name": "Python 3",
   "language": "python",
   "name": "python3"
  },
  "language_info": {
   "codemirror_mode": {
    "name": "ipython",
    "version": 3
   },
   "file_extension": ".py",
   "mimetype": "text/x-python",
   "name": "python",
   "nbconvert_exporter": "python",
   "pygments_lexer": "ipython3",
   "version": "3.7.0"
  }
 },
 "nbformat": 4,
 "nbformat_minor": 2
}
